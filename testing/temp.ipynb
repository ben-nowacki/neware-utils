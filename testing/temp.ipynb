{
 "cells": [
  {
   "cell_type": "code",
   "execution_count": 1,
   "metadata": {},
   "outputs": [],
   "source": [
    "from dataclasses import dataclass, field\n",
    "from typing import Optional, Dict, Type, Union\n",
    "import xml.etree.ElementTree as ET\n",
    "\n",
    "from pathlib import Path\n",
    "from datetime import datetime\n",
    "\n",
    "from neware_utils.protocols import *"
   ]
  },
  {
   "cell_type": "code",
   "execution_count": 2,
   "metadata": {},
   "outputs": [],
   "source": [
    "protocol = Protocol(\n",
    "    builder_name='Ben Nowacki',\n",
    "    protocol_description=\"Testing automatic protocol generation\",\n",
    ")\n",
    "protocol.set_sampling_intervals('time', 1.0)\t\t\t\t\t\t\t\t\t# set sampling to 1-second interval\n",
    "protocol.set_protection_limits('voltage', lower_limit=1.8, upper_limit=3.8)\t\t# set voltage protection to (1.8, 3.8)\n",
    "protocol.set_protection_limits('temperature', lower_limit=5, upper_limit=40, where='aux')\t\t# set temperature protection\n",
    "\n",
    "protocol.add_step(CCCV_CHG.create(current=1.2, voltage=3.6, cutoff_current=0.060,))\t\t# CC CHG to 3.6 V with 60mA cutoff\n",
    "protocol.add_step(CC_DCHG.create(current=1.2, cutoff_voltage=2.0,))\t\t\t\t\t\t# CC DCHG to 2.0 V\n",
    "protocol.add_step(END.create())\n",
    "\n",
    "protocol.export(Path(\"testing/filename.xml\"))\n",
    "\n"
   ]
  },
  {
   "cell_type": "code",
   "execution_count": 3,
   "metadata": {},
   "outputs": [],
   "source": [
    "protocol = Protocol(\n",
    "    builder_name='Ben Nowacki',\n",
    "    protocol_description=\"Testing automatic protocol generation\",\n",
    ")\n",
    "protocol.set_sampling_intervals('time', 1.0)\t\t\t\t\t\t\t\t\t# set sampling to 1-second interval\n",
    "protocol.set_protection_limits('voltage', lower_limit=1.8, upper_limit=3.8)\t\t# set voltage protection to (1.8, 3.8)\n",
    "protocol.set_protection_limits('temperature', lower_limit=5, upper_limit=40, where='aux')\t\t# set temperature protection\n",
    "\n",
    "protocol.add_step(CC_CHG.create(current=1.2, cutoff_voltage=4.5, step_duration=120))\t\t\t\t\t\t# CC chg for 2 minutes at 1.2A\n",
    "rest = REST.create(step_duration=300)\t\t\t\t\t\t\t\t\t\t\t\t\t# Rest for 5 minutes\n",
    "rest.add_condition(parameter='voltage', value=3.6, comparator='<', condition='next')\t#    or until voltage drops below 3.6V\n",
    "protocol.add_step(rest)\n",
    "protocol.add_step(CCCV_CHG.create(current=1.2, voltage=3.6, cutoff_current=0.060,))\t\t# CC CHG to 3.6 V with 60mA cutoff\n",
    "protocol.add_step(CC_DCHG.create(current=1.2, cutoff_voltage=2.0,))\t\t\t\t\t\t# CC DCHG to 2.0 V\n",
    "protocol.add_step(END.create())\n",
    "\n",
    "protocol.export(Path(\"testing/protocol_with_condition.xml\"))\n",
    "\n"
   ]
  },
  {
   "cell_type": "code",
   "execution_count": null,
   "metadata": {},
   "outputs": [],
   "source": []
  },
  {
   "cell_type": "code",
   "execution_count": null,
   "metadata": {},
   "outputs": [],
   "source": [
    "\n",
    "step_elem = ET.Element(\"Step\", {\"type\": 'type-value', \"name\": 'name-value'})\n",
    "ET.tostring(step_elem, encoding=\"utf-8\") #.decode(\"utf-8\")"
   ]
  },
  {
   "cell_type": "code",
   "execution_count": null,
   "metadata": {},
   "outputs": [],
   "source": []
  },
  {
   "cell_type": "code",
   "execution_count": null,
   "metadata": {},
   "outputs": [],
   "source": []
  }
 ],
 "metadata": {
  "kernelspec": {
   "display_name": "envNewareUtils",
   "language": "python",
   "name": "python3"
  },
  "language_info": {
   "codemirror_mode": {
    "name": "ipython",
    "version": 3
   },
   "file_extension": ".py",
   "mimetype": "text/x-python",
   "name": "python",
   "nbconvert_exporter": "python",
   "pygments_lexer": "ipython3",
   "version": "3.9.21"
  }
 },
 "nbformat": 4,
 "nbformat_minor": 2
}
